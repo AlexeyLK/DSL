{
  "nbformat": 4,
  "nbformat_minor": 0,
  "metadata": {
    "colab": {
      "name": "Solution_2.ipynb",
      "provenance": [],
      "authorship_tag": "ABX9TyOzN4/VVYdHocQV0NMXoT8j",
      "include_colab_link": true
    },
    "kernelspec": {
      "name": "python3",
      "display_name": "Python 3"
    },
    "language_info": {
      "name": "python"
    }
  },
  "cells": [
    {
      "cell_type": "markdown",
      "metadata": {
        "id": "view-in-github",
        "colab_type": "text"
      },
      "source": [
        "<a href=\"https://colab.research.google.com/github/AlexeyLK/DSL/blob/main/Solution_2.ipynb\" target=\"_parent\"><img src=\"https://colab.research.google.com/assets/colab-badge.svg\" alt=\"Open In Colab\"/></a>"
      ]
    },
    {
      "cell_type": "code",
      "metadata": {
        "id": "DYHFpIstnMKk"
      },
      "source": [
        "{'toks': set(token), 'vars': dict(var: definition), 'hvar': var}\n",
        "token : (class, value)    # tokens\n",
        "class : int\n",
        "value : str\n",
        "var : str                 # non terminals name\n",
        "definition : list(rule)\n",
        "rule : list(var | token)  # right side of the "
      ],
      "execution_count": null,
      "outputs": []
    },
    {
      "cell_type": "markdown",
      "metadata": {
        "id": "eS65r0zonWyN"
      },
      "source": [
        "1) Removing extraneous non terminals\n",
        "( Remove all unproductive or unreachable characters )."
      ]
    },
    {
      "cell_type": "code",
      "metadata": {
        "id": "5oZahllqniVX"
      },
      "source": [
        "def del_non_term_symbols(gram):\n",
        "  toks = gram['toks']\n",
        "  vars = gram['vars']\n",
        "  non_term_symbols = set() # For non terminals\n",
        "  nonterminal_found = True # New non-external nonterminal was found in the previous iteration (false - not found)\n",
        "\n",
        "  def check(rule) -> bool: # To check does the rule contain only tokens\n",
        "    for r in rule:\n",
        "      if r in toks or r in non_term_symbols:\n",
        "        pass # Do nothing\n",
        "      else:\n",
        "        return False\n",
        "    return True\n",
        "\n",
        "  # Find non-external non-terminals\n",
        "  while nonterminal_found:\n",
        "    nonterminal_found = False\n",
        "    for n, definition in vars.items():\n",
        "      if n not in non_term_symbols:\n",
        "        for r in definition:\n",
        "          if check(r):\n",
        "            nonterminal_found = True\n",
        "            non_term_symbols.add(n)\n",
        "            break\n",
        "  \n",
        "  # Remove from the grammar all nonterminals\n",
        "  n_vars = dict()\n",
        "  for n, definition in vars.items():\n",
        "    if n in non_term_symbols:\n",
        "      for r in definition:\n",
        "        if check(r):\n",
        "          if n in n_vars.keys():\n",
        "            n_vars[n].append(r)\n",
        "          else:\n",
        "            n_vars[n] = list()\n",
        "            n_vars[n].append(r)\n",
        "\n",
        "  gram['vars'] = n_vars\n",
        "\n",
        "  return gram"
      ],
      "execution_count": 17,
      "outputs": []
    },
    {
      "cell_type": "markdown",
      "metadata": {
        "id": "tHQgdOrWruLg"
      },
      "source": [
        "\n",
        "2) Definition of disappearing symbols\n",
        "\n",
        "Empty token -> token (0, 'a')\n",
        "\n",
        "( Find all nonterminals that have at least one rule consisting only of empty tokens or already known disappearing nonterminals )."
      ]
    },
    {
      "cell_type": "code",
      "metadata": {
        "id": "yP_qlZj6rxo9"
      },
      "source": [
        "def find_dis_symbols(gram):\n",
        "  toks = gram['toks']\n",
        "  vars = gram['vars']\n",
        "  dis_symbols = set() # List of disappearing symbols to return\n",
        "  new_dis_symbols = True # New disappearing symbols was found in the previous iteration (false - not found)\n",
        "\n",
        "  def check(rule) -> bool: # To checks does the rule contains only empty tokens and disappearing characters\n",
        "    for r in rule:\n",
        "      if r == (0, 'a') or r in dis_symbols:\n",
        "        pass # Do nothing\n",
        "      else:\n",
        "        return False\n",
        "    return True\n",
        "\n",
        "  while new_dis_symbols:\n",
        "    new_dis_symbols = False\n",
        "    for n, definition in vars.items():\n",
        "       if n not in dis_symbols:\n",
        "         for r in definition:\n",
        "            if check(r):\n",
        "              new_dis_symbol = True\n",
        "              dis_symbols.add(n)\n",
        "              break\n",
        "\n",
        "  return dis_symbols"
      ],
      "execution_count": 18,
      "outputs": []
    },
    {
      "cell_type": "markdown",
      "metadata": {
        "id": "imJn_pparzoY"
      },
      "source": [
        "Some exemples"
      ]
    },
    {
      "cell_type": "code",
      "metadata": {
        "colab": {
          "base_uri": "https://localhost:8080/"
        },
        "id": "92QJVpTfr06D",
        "outputId": "5077cb86-cc6c-4025-f7d1-c7f7d78b02e1"
      },
      "source": [
        "gram = {\n",
        "    'toks': set( [\n",
        "        (0, 'a'), \n",
        "        (1, 'b'), \n",
        "        (1, 'c'), \n",
        "        (2, 'd')\n",
        "    ] ),\n",
        "    'vars': {\n",
        "        'A' : [['A', (1, 'c')], \n",
        "               ['B', 'F'],\n",
        "               ['C', (0, 'a'), 'H'],\n",
        "               ['P', (0, 'b')]],\n",
        "        'G' : [['F', (1, 'c')],\n",
        "               [(1, 'a')]],\n",
        "        'B' : [['D', (1, 'c')]],\n",
        "        'C' : [['B']],\n",
        "        'U' : [['U', (2, 'f')],\n",
        "               ['I', (1, 'b')]]\n",
        "    },\n",
        "    'hvar': 'F'\n",
        "}\n",
        "\n",
        "print(\"Without external non-terminals: \", del_non_term_symbols(gram))\n",
        "\n",
        "print(\"Dissaperaing non-terminals: \", find_dis_symbols(gram))"
      ],
      "execution_count": 21,
      "outputs": [
        {
          "output_type": "stream",
          "name": "stdout",
          "text": [
            "Without external non-terminals:  {'toks': {(0, 'a'), (1, 'c'), (1, 'b'), (2, 'd')}, 'vars': {}, 'hvar': 'F'}\n",
            "Dissaperaing non-terminals:  set()\n"
          ]
        }
      ]
    }
  ]
}