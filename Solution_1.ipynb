{
  "nbformat": 4,
  "nbformat_minor": 0,
  "metadata": {
    "colab": {
      "name": "Untitled1.ipynb",
      "provenance": [],
      "authorship_tag": "ABX9TyNgJuEbFtuiZy0wZdUqGEaT",
      "include_colab_link": true
    },
    "kernelspec": {
      "name": "python3",
      "display_name": "Python 3"
    },
    "language_info": {
      "name": "python"
    }
  },
  "cells": [
    {
      "cell_type": "markdown",
      "metadata": {
        "id": "view-in-github",
        "colab_type": "text"
      },
      "source": [
        "<a href=\"https://colab.research.google.com/github/AlexeyLK/DSL/blob/main/Solution_1.ipynb\" target=\"_parent\"><img src=\"https://colab.research.google.com/assets/colab-badge.svg\" alt=\"Open In Colab\"/></a>"
      ]
    },
    {
      "cell_type": "code",
      "metadata": {
        "id": "3RL0e_Map62w"
      },
      "source": [
        "def get_text_from_file(filename):\n",
        "    # To get data from file and parse into string\n",
        "    text_from_file = open(filename, 'r')\n",
        "    text = \"\"\n",
        "    for l in text_from_file:\n",
        "        text += l\n",
        "    return text\n",
        "\n",
        "def get_text_list(text):\n",
        "    # To get list of words without whitespaces\n",
        "    whitespaces = [' ', '\\n', '\\t']\n",
        "\n",
        "    text_list = []  # Array to return\n",
        "    word = \"\" # To store words one by one\n",
        "    \n",
        "    for s in text:\n",
        "        if s not in whitespaces:\n",
        "            word += s\n",
        "        else:\n",
        "            if len(word) != 0:  # In case two spaces: \"q  w\"\n",
        "                text_list.append(word)\n",
        "                word = \"\" \n",
        "\n",
        "    return(text_list)\n",
        "\n",
        "print(get_text_list(get_text_from_file(\"exemple.txt\")))"
      ],
      "execution_count": null,
      "outputs": []
    }
  ]
}